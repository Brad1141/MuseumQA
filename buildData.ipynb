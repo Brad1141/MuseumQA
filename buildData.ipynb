{
 "cells": [
  {
   "cell_type": "code",
   "execution_count": 1,
   "metadata": {},
   "outputs": [],
   "source": [
    "import PyPDF2"
   ]
  },
  {
   "cell_type": "code",
   "execution_count": 19,
   "metadata": {},
   "outputs": [
    {
     "name": "stdout",
     "output_type": "stream",
     "text": [
      "411\n",
      "Giuseppe Angelí\n",
      "1712 - 1798\n",
      "GIUSEPPE ANGELÍ was born in Venice and en-\n",
      "tered the shop of Giovanni Battista Piazzetta\n",
      "(q.v.) at an unknown date, probably before he was\n",
      "twenty years old. By 1741 he was officially registered\n",
      "as an independent painter, although he remained in\n",
      "Piazzetta's workshop and eventually became its di-\n",
      "rector. Of all the painters employed by Piazzetta,\n",
      "Angelí was the most adept at imitating the master's\n",
      "style. He soon succeeded, however, in cultivating his\n",
      "own circle of influential patrons in Venice and its\n",
      "mainland territories. He is not known to have left\n",
      "the city for study or work.\n",
      "Early in his career Angeli produced works of all\n",
      "the types turned out by Piazzetta's shop, including\n",
      "genre paintings, half-length devotional images, dec-\n",
      "orative cycles, and the large religious paintings that\n",
      "would be the focus of his career. Although his style\n",
      "derived primarily from his teacher's late manner, he\n",
      "was receptive to other contemporary developments,\n",
      "particularly the refined elegance and lighter palettes\n",
      "of Giovanni Battista Tiepolo (q.v.) and Jacopo\n",
      "Amigoni (1682-1752). His earliest works, of the 17305\n",
      "and 17405, are the most indebted to Piazzetta, yet they\n",
      "anticipate his later style. In these works he retained\n",
      "Piazzetta's restricted, vaguely defined space, but with\n",
      "more simplified, symmetrical compositions in which\n",
      "he isolated heavy, blocklike figures. These figures de-\n",
      "rive principally from Piazzetta, but often recall\n",
      "Amigoni. Angeli's palette, too, initially developed\n",
      "from the mature Piazzetta's careful blend of warm,\n",
      "primarily brown, tones accented with cooler hues,\n",
      "but he later came to prefer a lighter, more silver\n",
      "tonality which avoided the reddish cast of his mas-\n",
      "ter's paintings.\n",
      "In the only extended consideration of Angeli's ca-\n",
      "reer to date, Mollenhauer Hanstein has described his\n",
      "evolving, somewhat uneven style of the 17505 and\n",
      "17605 as influenced by the neoclassical manner of\n",
      "such painters as Pier Antonio Novelli (1729-1804) and\n",
      "the new Enlightenment ideals among the Venetian\n",
      "ecclesiastics, who were his chief patrons. Angeli's al-\n",
      "tarpieces of this period tend to increased simplicity\n",
      "and clarity of outline. Their pastel-like finish, derived\n",
      "from Amigoni, is quite unlike Angeli's earlier, more\n",
      "vibrant paint surfaces. As he strove for a more\n",
      "straightforward presentation of subject, his religiouspaintings assumed an almost genrelike immediacy,\n",
      "the figures becoming less monumental. In many in-\n",
      "stances he drew directly upon fifteenth-century\n",
      "models, often appropriating their flat gold back-\n",
      "grounds or specific architectural details. These he\n",
      "used to give concrete definition to a space no longer\n",
      "determined solely by Piazzetta's chiaroscuro effects,\n",
      "as in his own early works. His last church commis-\n",
      "sions of the 17705, however, return to his first style.\n",
      "In addition to large altarpieces, Angeli also exe-\n",
      "cuted decorative commissions in palaces and villas,\n",
      "where he was less innovative, simply reworking\n",
      "earlier treatments of historical and mythological\n",
      "scenes. For the Scuola di San Rocco he executed a\n",
      "number of ceiling paintings, restored works by Ja-\n",
      "copo Tintoretto (1518-1594), and even repainted un-\n",
      "restorable compositions by Tintoretto and Porde-\n",
      "none (1483/1484-1539). In the 17705 he returned to\n",
      "painting small devotional images and portraits of\n",
      "his influential patrons, following the conventions of\n",
      "official portraiture as practiced by Alessandro\n",
      "Longhi (1733-1813).\n",
      "Elected drawing master in 1756, Angeli was a\n",
      "leading member of the Venetian Academy until the\n",
      "later 1770$. In 1774 he was awarded a medal of hon-\n",
      "or from the Venetian government for his accom-\n",
      "plishments in religious painting. Thereafter, howev-\n",
      "er, demand for his art declined as a result of the\n",
      "religious and social transformations that preceded\n",
      "the fall of the Venetian Republic in 1797. He left no\n",
      "successful pupils and had no influence on the pro-\n",
      "foundly different course of Venetian art in the nine-\n",
      "teenth century.\n",
      "EG\n",
      "Bibliography\n",
      "Pilo 1980, 47-51.\n",
      "Pignatti 1983,146-152.\n",
      "Mollenhauer Hanstein 1982,1986.\n",
      "ANGELÍ 3\n",
      "\n"
     ]
    }
   ],
   "source": [
    "# creating a pdf file object\n",
    "pdfFileObj = open('MusePDF.pdf', 'rb')\n",
    "  \n",
    "# creating a pdf reader object\n",
    "pdfReader = PyPDF2.PdfFileReader(pdfFileObj)\n",
    "  \n",
    "# printing number of pages in pdf file\n",
    "print(pdfReader.numPages)\n",
    "\n",
    "# creating a page object\n",
    "pageObj = pdfReader.getPage(21)\n",
    "  \n",
    "# extracting text from page\n",
    "print(pageObj.extractText())\n",
    "  \n",
    "# closing the pdf file object\n",
    "pdfFileObj.close()"
   ]
  },
  {
   "cell_type": "code",
   "execution_count": null,
   "metadata": {},
   "outputs": [],
   "source": []
  }
 ],
 "metadata": {
  "kernelspec": {
   "display_name": "Python 3.8.10 64-bit (microsoft store)",
   "language": "python",
   "name": "python3"
  },
  "language_info": {
   "codemirror_mode": {
    "name": "ipython",
    "version": 3
   },
   "file_extension": ".py",
   "mimetype": "text/x-python",
   "name": "python",
   "nbconvert_exporter": "python",
   "pygments_lexer": "ipython3",
   "version": "3.8.10"
  },
  "orig_nbformat": 4,
  "vscode": {
   "interpreter": {
    "hash": "faa2fac6ff85f643fad080676a73334f6d2a035cd520b8ffec70f2014eef7619"
   }
  }
 },
 "nbformat": 4,
 "nbformat_minor": 2
}

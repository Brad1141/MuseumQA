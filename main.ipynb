{
 "cells": [
  {
   "cell_type": "code",
   "execution_count": 1,
   "metadata": {},
   "outputs": [],
   "source": [
    "# main file, testing things out"
   ]
  },
  {
   "cell_type": "code",
   "execution_count": 2,
   "metadata": {},
   "outputs": [
    {
     "name": "stderr",
     "output_type": "stream",
     "text": [
      "C:\\Users\\Brad\\AppData\\Local\\Packages\\PythonSoftwareFoundation.Python.3.8_qbz5n2kfra8p0\\LocalCache\\local-packages\\Python38\\site-packages\\tqdm\\auto.py:22: TqdmWarning: IProgress not found. Please update jupyter and ipywidgets. See https://ipywidgets.readthedocs.io/en/stable/user_install.html\n",
      "  from .autonotebook import tqdm as notebook_tqdm\n",
      "Reusing dataset squad (C:\\Users\\Brad\\.cache\\huggingface\\datasets\\squad\\plain_text\\1.0.0\\d6ec3ceb99ca480ce37cdd35555d6cb2511d223b9150cce08a837ef62ffea453)\n",
      "100%|██████████| 2/2 [00:00<00:00, 107.12it/s]\n"
     ]
    }
   ],
   "source": [
    "from datasets import load_dataset\n",
    "\n",
    "raw_datasets = load_dataset(\"squad\")"
   ]
  },
  {
   "cell_type": "code",
   "execution_count": 3,
   "metadata": {},
   "outputs": [],
   "source": [
    "f = open(\"testString.txt\")\n",
    "\n",
    "testString = f.read()\n",
    "\n",
    "f.close()"
   ]
  },
  {
   "cell_type": "code",
   "execution_count": 4,
   "metadata": {},
   "outputs": [],
   "source": [
    "from transformers import AutoModelForQuestionAnswering, AutoTokenizer, pipeline\n",
    "\n",
    "tiny_model_name = \"deepset/tinyroberta-squad2\"\n",
    "model_name = \"deepset/roberta-base-squad2\"\n",
    "\n",
    "model = AutoModelForQuestionAnswering.from_pretrained(tiny_model_name)\n",
    "tokenizer = AutoTokenizer.from_pretrained(tiny_model_name)"
   ]
  },
  {
   "cell_type": "code",
   "execution_count": 6,
   "metadata": {},
   "outputs": [
    {
     "name": "stderr",
     "output_type": "stream",
     "text": [
      "C:\\Users\\Brad\\AppData\\Local\\Packages\\PythonSoftwareFoundation.Python.3.8_qbz5n2kfra8p0\\LocalCache\\local-packages\\Python38\\site-packages\\transformers\\tokenization_utils_base.py:705: VisibleDeprecationWarning: Creating an ndarray from ragged nested sequences (which is a list-or-tuple of lists-or-tuples-or ndarrays with different lengths or shapes) is deprecated. If you meant to do this, you must specify 'dtype=object' when creating the ndarray.\n",
      "  tensor = as_tensor(value)\n",
      "C:\\Users\\Brad\\AppData\\Local\\Packages\\PythonSoftwareFoundation.Python.3.8_qbz5n2kfra8p0\\LocalCache\\local-packages\\Python38\\site-packages\\transformers\\pipelines\\question_answering.py:299: VisibleDeprecationWarning: Creating an ndarray from ragged nested sequences (which is a list-or-tuple of lists-or-tuples-or ndarrays with different lengths or shapes) is deprecated. If you meant to do this, you must specify 'dtype=object' when creating the ndarray.\n",
      "  p_mask = np.asarray(\n"
     ]
    }
   ],
   "source": [
    "# a) Get predictions\n",
    "nlp = pipeline('question-answering', model=tiny_model_name, tokenizer=tiny_model_name)\n",
    "QA_input = {\n",
    "    'question': 'Who is Augustus III?',\n",
    "    'context': testString\n",
    "}\n",
    "res = nlp(QA_input)"
   ]
  },
  {
   "cell_type": "code",
   "execution_count": 7,
   "metadata": {},
   "outputs": [
    {
     "name": "stdout",
     "output_type": "stream",
     "text": [
      "{'score': 0.9670634865760803, 'start': 386, 'end': 422, 'answer': 'elector of Saxony and king of Poland'}\n"
     ]
    }
   ],
   "source": [
    "print(res)"
   ]
  },
  {
   "cell_type": "code",
   "execution_count": 12,
   "metadata": {},
   "outputs": [
    {
     "data": {
      "text/plain": [
       "\"Nephew and pupil of the celebrated Venetian view painter Canaletto, Bernardo Bellotto began by depicting various locations in Venice in the precisely topographical style of his uncle. As he traveled throughout Italy, however, Bellotto gradually developed a distinctive and increasingly poetic manner of his own. The turning point in the artist's career came in 1747, when Augustus III, elector of Saxony and king of Poland, invited him to Dresden, where he became court painter. Though accurate enough to have served centuries later in the post-World War II reconstruction of the city, Bellotto's varied and imaginatively conceived views of Dresden transcend the limits of topography. When Prussian troops captured the Saxon capital in the autumn of 1756, Bellotto moved on to work for the courts of Vienna and of Munich, where his vedute (view paintings) became even more artistically complex. The influence of Ruisdael and other seventeenth-century Dutch landscapists played a crucial role in forming Bellotto's mature concept of landscape. After attempting unsuccessfully to resurrect his career in Dresden (his munificent patron had died), Bellotto ended by working for Augustus' successor in Warsaw, the last great European center he recorded and ennobled through his art.\\n\\nAlthough Bellotto was primarily a painter of the urban scene, his Fortress of KÃ¶nigstein is one of five large canvases, commissioned by Augustus III in the spring of 1756 but never delivered, depicting the renovated medieval fortress in the countryside near Dresden. The other canvases in the series, of identical size and format, consist of images of both the interior and the exterior of the castle, viewed from a closer vantage point than that adopted for the Gallery's painting. All five paintings were probably imported into England during the artist's lifetime, and they remained there until this painting was acquired by the Gallery in 1993. The two exterior views were together in the collection of the earl of Derby at Knowsley House, Lancashire, until 2017 when one of them was acquired by the National Gallery, London. The other two views, taken from inside the castle walls, belong to the City Art Gallery, Manchester. The castle of KÃ¶nigstein, almost unchanged in appearance today, sits atop a mountain rising precipitously from the Elbe River valley. Exploiting the picturesque quality of the site, Bellotto invested the Gallery's picture with a sense of drama and monumentality rarely found in eighteenth-century view painting. Bellotto's panorama effectively contrasts the imposing mass of the fortress, perched on a rocky precipice, with the broad expanse of cloud-filled sky and with the bucolic scene of rustic peasants and their animals, picked out in the foreground by the flickering light. The middle ground is occupied by forests, fields, and pathways leading to the castle at the apex of the mountain. In Bellotto's interpretation, KÃ¶nigstein castle becomes an awesome--and ironic--symbol of his patron's might at the very moment of his defeat.\""
      ]
     },
     "execution_count": 12,
     "metadata": {},
     "output_type": "execute_result"
    }
   ],
   "source": [
    "testString"
   ]
  },
  {
   "cell_type": "code",
   "execution_count": null,
   "metadata": {},
   "outputs": [],
   "source": []
  }
 ],
 "metadata": {
  "kernelspec": {
   "display_name": "Python 3.8.10 64-bit (microsoft store)",
   "language": "python",
   "name": "python3"
  },
  "language_info": {
   "codemirror_mode": {
    "name": "ipython",
    "version": 3
   },
   "file_extension": ".py",
   "mimetype": "text/x-python",
   "name": "python",
   "nbconvert_exporter": "python",
   "pygments_lexer": "ipython3",
   "version": "3.8.10"
  },
  "orig_nbformat": 4,
  "vscode": {
   "interpreter": {
    "hash": "faa2fac6ff85f643fad080676a73334f6d2a035cd520b8ffec70f2014eef7619"
   }
  }
 },
 "nbformat": 4,
 "nbformat_minor": 2
}
